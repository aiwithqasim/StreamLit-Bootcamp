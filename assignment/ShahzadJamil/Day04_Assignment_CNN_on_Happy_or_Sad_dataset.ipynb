{
  "nbformat": 4,
  "nbformat_minor": 0,
  "metadata": {
    "accelerator": "GPU",
    "colab": {
      "name": "Day04_Assignment_CNN on Happy or Sad dataset.ipynb",
      "provenance": []
    },
    "kernelspec": {
      "name": "python3",
      "display_name": "Python 3"
    },
    "language_info": {
      "name": "python"
    }
  },
  "cells": [
    {
      "cell_type": "markdown",
      "metadata": {
        "id": "view-in-github"
      },
      "source": [
        "<a href=\"https://colab.research.google.com/github/https-deeplearning-ai/tensorflow-1-public/blob/adding_C1/C1/W4/assignment/C1_W4_Assignment_Solution.ipynb\" target=\"_parent\"><img src=\"https://colab.research.google.com/assets/colab-badge.svg\" alt=\"Open In Colab\"/></a>"
      ]
    },
    {
      "cell_type": "code",
      "metadata": {
        "id": "kN_59ezmDOwC"
      },
      "source": [
        "# this is used in downloading data from the google drive\n",
        "#!pip install gdown"
      ],
      "execution_count": null,
      "outputs": []
    },
    {
      "cell_type": "markdown",
      "metadata": {
        "id": "GvJbBW_oDOwC"
      },
      "source": [
        "Below is code with a link to a happy or sad dataset which contains 80 images, 40 happy and 40 sad. \n",
        "Create a convolutional neural network that trains to 100% accuracy on these images,  which cancels training upon hitting training accuracy of >.999\n",
        "\n",
        "Hint -- it will work best with 3 convolutional layers."
      ]
    },
    {
      "cell_type": "code",
      "metadata": {
        "colab": {
          "base_uri": "https://localhost:8080/"
        },
        "id": "3NFuMFYXtwsT",
        "outputId": "df6ee6ec-8d1f-439b-f939-3ff243ae9af9"
      },
      "source": [
        "import tensorflow as tf\n",
        "import os\n",
        "import zipfile\n",
        "\n",
        "!gdown --id 1NvV6VhmrfU8JDZNoEbwJxwx_6dhyN5bf \n",
        "\n",
        "zip_ref = zipfile.ZipFile(\"./happy-or-sad.zip\", 'r')\n",
        "zip_ref.extractall(\"./h-or-s\")\n",
        "zip_ref.close()"
      ],
      "execution_count": 1,
      "outputs": [
        {
          "output_type": "stream",
          "name": "stdout",
          "text": [
            "Downloading...\n",
            "From: https://drive.google.com/uc?id=1NvV6VhmrfU8JDZNoEbwJxwx_6dhyN5bf\n",
            "To: /content/happy-or-sad.zip\n",
            "\r  0% 0.00/2.67M [00:00<?, ?B/s]\r100% 2.67M/2.67M [00:00<00:00, 85.2MB/s]\n"
          ]
        }
      ]
    },
    {
      "cell_type": "code",
      "metadata": {
        "id": "eUcNTpra1FK0"
      },
      "source": [
        "# GRADED FUNCTION: train_happy_sad_model\n",
        "def train_happy_sad_model():\n",
        "   \n",
        "    DESIRED_ACCURACY = 0.999\n",
        "\n",
        "    class myCallback(tf.keras.callbacks.Callback): \n",
        "           \n",
        "        def on_epoch_end(self, epoch, logs={}):\n",
        "            if logs.get('accuracy') is not None and logs.get('accuracy') > DESIRED_ACCURACY:\n",
        "                print(\"\\nReached 99.9% accuracy so cancelling training!\")\n",
        "                self.model.stop_training = True\n",
        "        \n",
        "    callbacks = myCallback()\n",
        "    \n",
        "    # This Code Block should Define and Compile the Model. Please assume the images are 150 X 150 in your implementation.\n",
        "    model = tf.keras.models.Sequential([\n",
        "    tf.keras.layers.Conv2D(16, (3,3), activation='relu', input_shape=(150, 150, 3)),\n",
        "    tf.keras.layers.MaxPooling2D(2, 2), \n",
        "    tf.keras.layers.Conv2D(32, (3,3), activation='relu'), \n",
        "    tf.keras.layers.MaxPooling2D(2,2), \n",
        "    tf.keras.layers.Conv2D(32, (3,3), activation='relu'), \n",
        "    tf.keras.layers.MaxPooling2D(2,2),\n",
        "    tf.keras.layers.Flatten(),\n",
        "    tf.keras.layers.Dense(512, activation='relu'), \n",
        "    tf.keras.layers.Dense(1, activation='sigmoid') \n",
        "    ])\n",
        "\n",
        "    from tensorflow.keras.optimizers import RMSprop\n",
        "\n",
        "    model.compile(loss='binary_crossentropy', \n",
        "                  optimizer=RMSprop(learning_rate=0.001), \n",
        "                  metrics=['accuracy']) # YOUR CODE HERE)\n",
        "    \n",
        "    # This code block should create an instance of an ImageDataGenerator called train_datagen \n",
        "    # And a train_generator by calling train_datagen.flow_from_directory\n",
        "\n",
        "    from tensorflow.keras.preprocessing.image import ImageDataGenerator\n",
        "\n",
        "    train_datagen = ImageDataGenerator(rescale=1/255) \n",
        "\n",
        "    # Please use a target_size of 150 X 150.\n",
        "    train_generator = train_datagen.flow_from_directory( \"./h-or-s\", \n",
        "                                                        target_size=(150, 150),\n",
        "                                                        batch_size=10,\n",
        "                                                        class_mode='binary')\n",
        "    # Expected output: 'Found 80 images belonging to 2 classes'\n",
        "\n",
        "    # This code block should call model.fit_generator and train for\n",
        "    # a number of epochs.\n",
        "    # model fitting\n",
        "    history = model.fit(train_generator, \n",
        "                        steps_per_epoch=8, \n",
        "                        epochs=15, \n",
        "                        verbose=1, \n",
        "                        callbacks=[callbacks] \n",
        "                       )\n",
        "    \n",
        "    return history.history['accuracy'][-1]"
      ],
      "execution_count": 3,
      "outputs": []
    },
    {
      "cell_type": "code",
      "metadata": {
        "colab": {
          "base_uri": "https://localhost:8080/"
        },
        "id": "sSaPPUe_z_OU",
        "outputId": "e6229384-895c-4b5a-8128-4207a0856898"
      },
      "source": [
        "train_happy_sad_model()"
      ],
      "execution_count": 4,
      "outputs": [
        {
          "output_type": "stream",
          "name": "stdout",
          "text": [
            "Found 80 images belonging to 2 classes.\n",
            "Epoch 1/15\n",
            "8/8 [==============================] - 31s 26ms/step - loss: 1.2697 - accuracy: 0.6500\n",
            "Epoch 2/15\n",
            "8/8 [==============================] - 0s 26ms/step - loss: 0.6432 - accuracy: 0.5875\n",
            "Epoch 3/15\n",
            "8/8 [==============================] - 0s 26ms/step - loss: 0.2854 - accuracy: 0.9125\n",
            "Epoch 4/15\n",
            "8/8 [==============================] - 0s 28ms/step - loss: 0.3268 - accuracy: 0.8875\n",
            "Epoch 5/15\n",
            "8/8 [==============================] - 0s 26ms/step - loss: 0.1608 - accuracy: 0.9500\n",
            "Epoch 6/15\n",
            "8/8 [==============================] - 0s 26ms/step - loss: 0.0979 - accuracy: 0.9625\n",
            "Epoch 7/15\n",
            "8/8 [==============================] - 0s 26ms/step - loss: 0.1513 - accuracy: 0.9250\n",
            "Epoch 8/15\n",
            "8/8 [==============================] - 0s 26ms/step - loss: 0.0291 - accuracy: 1.0000\n",
            "\n",
            "Reached 99.9% accuracy so cancelling training!\n"
          ]
        },
        {
          "output_type": "execute_result",
          "data": {
            "text/plain": [
              "1.0"
            ]
          },
          "metadata": {},
          "execution_count": 4
        }
      ]
    },
    {
      "cell_type": "code",
      "metadata": {
        "id": "0imravDn0Ajz"
      },
      "source": [
        ""
      ],
      "execution_count": null,
      "outputs": []
    }
  ]
}